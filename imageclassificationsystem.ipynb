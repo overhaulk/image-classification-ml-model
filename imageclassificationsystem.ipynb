{
 "cells": [
  {
   "cell_type": "code",
   "execution_count": null,
   "id": "6003a0d8-31d1-44b1-a78c-825f0f66016e",
   "metadata": {},
   "outputs": [],
   "source": []
  },
  {
   "cell_type": "code",
   "execution_count": 1,
   "id": "90597186-5910-429f-a04e-a865d6b4889e",
   "metadata": {
    "collapsed": true,
    "jupyter": {
     "outputs_hidden": true
    }
   },
   "outputs": [
    {
     "name": "stdout",
     "output_type": "stream",
     "text": [
      "Requirement already satisfied: numpy in c:\\programdata\\anaconda3\\lib\\site-packages (2.1.3)\n",
      "Requirement already satisfied: pillow in c:\\programdata\\anaconda3\\lib\\site-packages (11.1.0)\n",
      "Requirement already satisfied: torch in c:\\programdata\\anaconda3\\lib\\site-packages (2.8.0)\n",
      "Requirement already satisfied: torchvision in c:\\programdata\\anaconda3\\lib\\site-packages (0.23.0)\n",
      "Requirement already satisfied: filelock in c:\\programdata\\anaconda3\\lib\\site-packages (from torch) (3.17.0)\n",
      "Requirement already satisfied: typing-extensions>=4.10.0 in c:\\programdata\\anaconda3\\lib\\site-packages (from torch) (4.12.2)\n",
      "Requirement already satisfied: sympy>=1.13.3 in c:\\programdata\\anaconda3\\lib\\site-packages (from torch) (1.13.3)\n",
      "Requirement already satisfied: networkx in c:\\programdata\\anaconda3\\lib\\site-packages (from torch) (3.4.2)\n",
      "Requirement already satisfied: jinja2 in c:\\programdata\\anaconda3\\lib\\site-packages (from torch) (3.1.6)\n",
      "Requirement already satisfied: fsspec in c:\\programdata\\anaconda3\\lib\\site-packages (from torch) (2025.3.2)\n",
      "Requirement already satisfied: setuptools in c:\\programdata\\anaconda3\\lib\\site-packages (from torch) (72.1.0)\n",
      "Requirement already satisfied: mpmath<1.4,>=1.1.0 in c:\\programdata\\anaconda3\\lib\\site-packages (from sympy>=1.13.3->torch) (1.3.0)\n",
      "Requirement already satisfied: MarkupSafe>=2.0 in c:\\programdata\\anaconda3\\lib\\site-packages (from jinja2->torch) (3.0.2)\n"
     ]
    }
   ],
   "source": [
    "!pip3 install numpy pillow torch torchvision"
   ]
  },
  {
   "cell_type": "code",
   "execution_count": 18,
   "id": "383f8770-746d-4d4d-9443-6ab65f0e21d6",
   "metadata": {},
   "outputs": [],
   "source": [
    "import numpy as np\n",
    "from PIL import Image\n",
    "import torch\n",
    "import torch.nn as nn\n",
    "import torch.nn.functional as F\n",
    "import torch.optim as optim\n",
    "import torchvision \n",
    "import torchvision.transforms as transforms "
   ]
  },
  {
   "cell_type": "code",
   "execution_count": 19,
   "id": "93a7cb6d-2aa4-4fd9-96fd-5e4e43f0d60e",
   "metadata": {},
   "outputs": [],
   "source": [
    "transform = transforms.Compose([\n",
    "    transforms.ToTensor(),\n",
    "    transforms.Normalize((0.5,0.5,0.5),(0.5,0.5,0.5))\n",
    "])"
   ]
  },
  {
   "cell_type": "code",
   "execution_count": 4,
   "id": "4b73fd8e-1a5f-4166-9e2b-93b63cf48d1e",
   "metadata": {},
   "outputs": [],
   "source": [
    "train_data = torchvision.datasets.CIFAR10(root=\"./data\", train=True, transform=transform, download=True)\n",
    "test_data = torchvision.datasets.CIFAR10(root=\"./data\", train=False, transform=transform, download=True)\n",
    "\n",
    "\n",
    "train_loader = torch.utils.data.DataLoader(train_data, batch_size=32, shuffle=True, num_workers=2)\n",
    "test_loader = torch.utils.data.DataLoader(test_data, batch_size=32, shuffle=True, num_workers=2)"
   ]
  },
  {
   "cell_type": "code",
   "execution_count": 5,
   "id": "3a92642d-f0c7-471e-8822-fb9603baed1d",
   "metadata": {},
   "outputs": [],
   "source": [
    "image , label = train_data[0]"
   ]
  },
  {
   "cell_type": "code",
   "execution_count": 6,
   "id": "d1630289-2697-4fb9-abeb-19cbdcab60c1",
   "metadata": {},
   "outputs": [
    {
     "data": {
      "text/plain": [
       "torch.Size([3, 32, 32])"
      ]
     },
     "execution_count": 6,
     "metadata": {},
     "output_type": "execute_result"
    }
   ],
   "source": [
    "image.size()"
   ]
  },
  {
   "cell_type": "code",
   "execution_count": 7,
   "id": "76fbd350-7894-4c61-a901-cde272b526f7",
   "metadata": {},
   "outputs": [],
   "source": [
    "class_name = [\"plane\",\"car\",\"bird\",\"cat\",\"deer\",\"dog\",\"frog\",\"horse\",\"ship\",\"truck\"]"
   ]
  },
  {
   "cell_type": "code",
   "execution_count": 8,
   "id": "e9cf0214-cec4-4202-bebe-7c014843d096",
   "metadata": {},
   "outputs": [],
   "source": [
    "class NeuralNet(nn.Module):\n",
    "    def __init__(self):\n",
    "        super(NeuralNet, self).__init__()\n",
    "\n",
    "        self.conv1 = nn.Conv2d(3,12,5) #(12,28,28)\n",
    "        self.pool = nn.MaxPool2d(2,2) #(12,14,14)\n",
    "        self.conv2 = nn.Conv2d(12,24,5) #(24,10,10)\n",
    "        self.fc1 = nn.Linear(24 * 5 * 5,120) \n",
    "        self.fc2 = nn.Linear(120,84) \n",
    "        self.fc3 = nn.Linear(84,10) \n",
    "\n",
    "    def forward(self,x):\n",
    "        x = self.pool(F.relu(self.conv1(x)))\n",
    "        x = self.pool(F.relu(self.conv2(x)))\n",
    "        x = torch.flatten(x,1)\n",
    "        x = F.relu(self.fc1(x))\n",
    "        x = F.relu(self.fc2(x))\n",
    "        x = self.fc3(x)\n",
    "        return x "
   ]
  },
  {
   "cell_type": "code",
   "execution_count": 9,
   "id": "1976cf42-4967-4bfb-9450-4ebca1edd983",
   "metadata": {},
   "outputs": [],
   "source": [
    "net = NeuralNet()\n",
    "loss_function = nn.CrossEntropyLoss()\n",
    "optimizer = optim.SGD(net.parameters(), lr=0.001, momentum=0.9)"
   ]
  },
  {
   "cell_type": "code",
   "execution_count": 10,
   "id": "502ccaef-ab30-466f-93ee-3e07317db0d2",
   "metadata": {},
   "outputs": [
    {
     "name": "stdout",
     "output_type": "stream",
     "text": [
      "training epoch 0...\n",
      "loss:  2.2473\n",
      "training epoch 1...\n",
      "loss:  1.7827\n",
      "training epoch 2...\n",
      "loss:  1.5449\n",
      "training epoch 3...\n",
      "loss:  1.4130\n",
      "training epoch 4...\n",
      "loss:  1.3120\n",
      "training epoch 5...\n",
      "loss:  1.2274\n",
      "training epoch 6...\n",
      "loss:  1.1618\n",
      "training epoch 7...\n",
      "loss:  1.1028\n",
      "training epoch 8...\n",
      "loss:  1.0498\n",
      "training epoch 9...\n",
      "loss:  1.0036\n",
      "training epoch 10...\n",
      "loss:  0.9662\n",
      "training epoch 11...\n",
      "loss:  0.9252\n",
      "training epoch 12...\n",
      "loss:  0.8906\n",
      "training epoch 13...\n",
      "loss:  0.8581\n",
      "training epoch 14...\n",
      "loss:  0.8236\n",
      "training epoch 15...\n",
      "loss:  0.7906\n",
      "training epoch 16...\n",
      "loss:  0.7649\n",
      "training epoch 17...\n",
      "loss:  0.7379\n",
      "training epoch 18...\n",
      "loss:  0.7067\n",
      "training epoch 19...\n",
      "loss:  0.6856\n",
      "training epoch 20...\n",
      "loss:  0.6580\n",
      "training epoch 21...\n",
      "loss:  0.6333\n",
      "training epoch 22...\n",
      "loss:  0.6064\n",
      "training epoch 23...\n",
      "loss:  0.5868\n",
      "training epoch 24...\n",
      "loss:  0.5628\n",
      "training epoch 25...\n",
      "loss:  0.5450\n",
      "training epoch 26...\n",
      "loss:  0.5197\n",
      "training epoch 27...\n",
      "loss:  0.4980\n",
      "training epoch 28...\n",
      "loss:  0.4766\n",
      "training epoch 29...\n",
      "loss:  0.4586\n",
      "training epoch 30...\n",
      "loss:  0.4362\n",
      "training epoch 31...\n",
      "loss:  0.4187\n",
      "training epoch 32...\n",
      "loss:  0.4035\n",
      "training epoch 33...\n",
      "loss:  0.3853\n",
      "training epoch 34...\n",
      "loss:  0.3632\n"
     ]
    }
   ],
   "source": [
    "for epoch in range(35):\n",
    "    print(f\"training epoch {epoch}...\")\n",
    "\n",
    "    running_loss = 0.0\n",
    "\n",
    "    for i , data in enumerate(train_loader):\n",
    "        inputs, labels = data\n",
    "\n",
    "        optimizer.zero_grad()\n",
    "\n",
    "        outputs = net(inputs)\n",
    "\n",
    "        loss = loss_function(outputs,labels)\n",
    "        loss.backward()\n",
    "        optimizer.step()\n",
    "\n",
    "        running_loss += loss.item()\n",
    "\n",
    "    print(f\"loss: {running_loss/len(train_loader): .4f}\")"
   ]
  },
  {
   "cell_type": "code",
   "execution_count": null,
   "id": "a73f4c7b-570d-4830-947e-ef262604efb2",
   "metadata": {},
   "outputs": [],
   "source": []
  },
  {
   "cell_type": "code",
   "execution_count": 11,
   "id": "a77865bc-a507-48f4-a555-8aab4d0412e6",
   "metadata": {},
   "outputs": [],
   "source": [
    "torch.save(net.state_dict(), \"trained_net.pth\")"
   ]
  },
  {
   "cell_type": "code",
   "execution_count": 12,
   "id": "9672842f-8232-4459-9752-fc10e8b4d3b8",
   "metadata": {},
   "outputs": [
    {
     "name": "stdout",
     "output_type": "stream",
     "text": [
      "['.anaconda', '.conda', '.condarc', '.continuum', '.dotnet', '.idlerc', '.ipynb_checkpoints', '.ipython', '.jupyter', '.matplotlib', '.node_repl_history', '.python_history', '.redhat', '.spyder-py3', '.templateengine', '.thumbnails', '.virtual_documents', '.vscode', '.wslconfig', 'anaconda_projects', 'ansel', 'app.js', 'AppData', 'appimg.js', 'Application Data', 'bot.js', 'bot.json', 'BrawlhallaReplays', 'Contacts', 'Cookies', 'curseforge', 'data', 'Documents', 'Downloads', 'EDA', 'Favorites', 'fileread.c', 'fileread.exe', 'gcc', 'get-pip.py', 'imageclassificationsystem.ipynb', 'Input.txt', 'Jedi', 'Links', 'Local Settings', 'Music', 'My Documents', 'NetHood', 'node_modules', 'NTUSER.DAT', 'ntuser.dat.LOG1', 'ntuser.dat.LOG2', 'NTUSER.DAT{b8752c82-cf55-11ef-96b8-b36d0caa1413}.TM.blf', 'NTUSER.DAT{b8752c82-cf55-11ef-96b8-b36d0caa1413}.TMContainer00000000000000000001.regtrans-ms', 'NTUSER.DAT{b8752c82-cf55-11ef-96b8-b36d0caa1413}.TMContainer00000000000000000002.regtrans-ms', 'ntuser.ini', 'OneDrive', 'output', 'package-lock.json', 'package.json', 'pip', 'PrintHood', 'Recent', 'Saved Games', 'Searches', 'SendTo', 'source', 'Start Menu', 'Templates', 'test.c', 'test.exe', 'trained_net.pth', 'trained_net_.pth', 'Untitled.ipynb', 'Untitled1.ipynb', 'Untitled2.ipynb', 'Untitled3.ipynb', 'venv', 'Videos']\n"
     ]
    }
   ],
   "source": [
    "import os\n",
    "print(os.listdir())"
   ]
  },
  {
   "cell_type": "code",
   "execution_count": 13,
   "id": "d73f59ff-82a3-4210-bff3-10199c1f35ff",
   "metadata": {},
   "outputs": [],
   "source": [
    "\n",
    "torch.save(net.state_dict(), \"trained_net_.pth\")"
   ]
  },
  {
   "cell_type": "code",
   "execution_count": 14,
   "id": "bdce1eca-2978-46c7-81ec-14850b1bff98",
   "metadata": {},
   "outputs": [
    {
     "data": {
      "text/plain": [
       "NeuralNet(\n",
       "  (conv1): Conv2d(3, 12, kernel_size=(5, 5), stride=(1, 1))\n",
       "  (pool): MaxPool2d(kernel_size=2, stride=2, padding=0, dilation=1, ceil_mode=False)\n",
       "  (conv2): Conv2d(12, 24, kernel_size=(5, 5), stride=(1, 1))\n",
       "  (fc1): Linear(in_features=600, out_features=120, bias=True)\n",
       "  (fc2): Linear(in_features=120, out_features=84, bias=True)\n",
       "  (fc3): Linear(in_features=84, out_features=10, bias=True)\n",
       ")"
      ]
     },
     "execution_count": 14,
     "metadata": {},
     "output_type": "execute_result"
    }
   ],
   "source": [
    "net = NeuralNet()\n",
    "net.load_state_dict(torch.load(\"trained_net_.pth\"))\n",
    "net.eval()"
   ]
  },
  {
   "cell_type": "code",
   "execution_count": 15,
   "id": "9a9f7e0a-b99a-4136-8525-fdd3c555b6b4",
   "metadata": {},
   "outputs": [
    {
     "name": "stdout",
     "output_type": "stream",
     "text": [
      "accuracy: 68.37%\n"
     ]
    }
   ],
   "source": [
    "correct = 0 \n",
    "total = 0 \n",
    "net.eval()\n",
    "\n",
    "with torch.no_grad():\n",
    "    for data in test_loader:\n",
    "        images, labels = data\n",
    "        outputs = net(images)\n",
    "        _, predicted = torch.max(outputs,1)\n",
    "        total += labels.size(0)\n",
    "        correct += (predicted  == labels).sum().item()\n",
    "\n",
    "accuracy = 100 * correct / total\n",
    "print(f\"accuracy: {accuracy}%\")\n"
   ]
  },
  {
   "cell_type": "code",
   "execution_count": 21,
   "id": "3a5aeee6-a33b-4f15-8141-9fcca67c1567",
   "metadata": {},
   "outputs": [
    {
     "name": "stdout",
     "output_type": "stream",
     "text": [
      "prediction: car\n",
      "prediction: cat\n",
      "prediction: dog\n",
      "prediction: plane\n"
     ]
    }
   ],
   "source": [
    "new_transform = transforms.Compose([\n",
    "    transforms.Resize((32,32)),\n",
    "    transforms.ToTensor(),\n",
    "    transforms.Normalize((0.5,0.5,0.5),(0.5,0.5,0.5))\n",
    "])\n",
    "\n",
    "def load_image(image_path):\n",
    "    image = Image.open(image_path)\n",
    "\n",
    "    image = new_transform(image)\n",
    "    image = image.unsqueeze(0)\n",
    "    return image\n",
    "\n",
    "image_paths = [\"Downloads/car.jpeg\",\"Downloads/cat.jpeg\",\"Downloads/dog.jpeg\",\"Downloads/plane.jpg\"]\n",
    "\n",
    "images = [load_image(img) for img in image_paths]\n",
    "\n",
    "net.eval()\n",
    "with torch.no_grad():\n",
    "    for image in images:\n",
    "        output = net(image)\n",
    "        _, predicted = torch.max(output, 1)\n",
    "        print(f\"prediction: {class_name[predicted.item()]}\")"
   ]
  },
  {
   "cell_type": "code",
   "execution_count": null,
   "id": "7c654632-379e-4532-b675-5536447b00da",
   "metadata": {},
   "outputs": [],
   "source": []
  }
 ],
 "metadata": {
  "kernelspec": {
   "display_name": "Python [conda env:base] *",
   "language": "python",
   "name": "conda-base-py"
  },
  "language_info": {
   "codemirror_mode": {
    "name": "ipython",
    "version": 3
   },
   "file_extension": ".py",
   "mimetype": "text/x-python",
   "name": "python",
   "nbconvert_exporter": "python",
   "pygments_lexer": "ipython3",
   "version": "3.13.5"
  }
 },
 "nbformat": 4,
 "nbformat_minor": 5
}
